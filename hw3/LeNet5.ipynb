{
 "cells": [
  {
   "cell_type": "code",
   "execution_count": 1,
   "metadata": {
    "collapsed": true
   },
   "outputs": [],
   "source": [
    "# 导入必要的包\n",
    "import torch\n",
    "import torch\n",
    "import torchvision as tv\n",
    "import torchvision.transforms as transforms\n",
    "import torch.nn as nn\n",
    "import torch.optim as optim\n",
    "\n",
    "# 定义是否使用GPU\n",
    "device = torch.device(\"cuda\" if torch.cuda.is_available() else \"cpu\")"
   ]
  },
  {
   "cell_type": "code",
   "execution_count": 2,
   "metadata": {
    "collapsed": true
   },
   "outputs": [],
   "source": [
    "# 定义网络\n",
    "class LeNet5(nn.Module):\n",
    "    def __init__(self):\n",
    "        super(LeNet5, self).__init__()\n",
    "        self.conv1 = nn.Sequential(\n",
    "            nn.Conv2d(1, 6, 5, padding = 2),\n",
    "            # 单通道，尺寸5*5，共6个，边缘补充2个，输出6个28 * 28的特征图\n",
    "            nn.ReLU(),\n",
    "            nn.MaxPool2d(kernel_size = 2, stride = 2)\n",
    "        )\n",
    "        self.conv2 = nn.Sequential(\n",
    "            nn.Conv2d(6, 16, 5),\n",
    "            # 6通道，16个5*5卷积核，输出16 * 10* 10的矩阵\n",
    "            nn.ReLU(),\n",
    "            nn.MaxPool2d(2,2)\n",
    "        )\n",
    "        self.fc1 = nn.Sequential(\n",
    "            nn.Linear(16 * 5 * 5, 120),\n",
    "            nn.ReLU()\n",
    "        )\n",
    "        self.fc2 = nn.Sequential(\n",
    "            nn.Linear(120, 84),\n",
    "            nn.ReLU()\n",
    "        )\n",
    "        self.fc3 = nn.Linear(84, 10)\n",
    "    def forward(self, x):\n",
    "        x = self.conv1(x)\n",
    "        x = self.conv2(x)\n",
    "        x = x.view(x.size()[0], -1)\n",
    "        x = self.fc1(x)\n",
    "        x = self.fc2(x)\n",
    "        x = self.fc3(x)\n",
    "        return x "
   ]
  },
  {
   "cell_type": "code",
   "execution_count": 3,
   "metadata": {
    "collapsed": true
   },
   "outputs": [],
   "source": [
    "batch_size = 64\n",
    "transform = transforms.ToTensor()\n",
    "\n",
    "trainset = tv.datasets.MNIST(root = './data/', train = True, download = False, transform = transform)\n",
    "trainloader = torch.utils.data.DataLoader(\n",
    "    trainset,\n",
    "    batch_size = batch_size,\n",
    "    shuffle = True\n",
    ")\n",
    "testset = tv.datasets.MNIST(root = './data/', train = False, download = False, transform = transform)\n",
    "testloader = torch.utils.data.DataLoader(\n",
    "    testset,\n",
    "    batch_size = batch_size,\n",
    "    shuffle = True\n",
    ")"
   ]
  },
  {
   "cell_type": "code",
   "execution_count": 64,
   "metadata": {},
   "outputs": [
    {
     "data": {
      "image/png": "[encoded data removed]",
      "text/plain": [
       "<matplotlib.figure.Figure at 0x1aa0e391320>"
      ]
     },
     "metadata": {},
     "output_type": "display_data"
    }
   ],
   "source": [
    "import matplotlib.pyplot as plt\n",
    "import numpy as np\n",
    "\n",
    "# functions to show an image\n",
    "def imshow(img):\n",
    "    npimg = img.numpy()\n",
    "    plt.imshow(np.transpose(npimg, (1, 2, 0)))\n",
    "    plt.show()\n",
    "# get some random training images\n",
    "dataiter = iter(testloader)\n",
    "images, labels = dataiter.next()\n",
    "\n",
    "# show images\n",
    "imshow(tv.utils.make_grid(images))"
   ]
  },
  {
   "cell_type": "code",
   "execution_count": 4,
   "metadata": {},
   "outputs": [
    {
     "name": "stdout",
     "output_type": "stream",
     "text": [
      "[1, 100] loss: 1.239\n",
      "[1, 200] loss: 0.363\n",
      "[1, 300] loss: 0.234\n",
      "[1, 400] loss: 0.166\n",
      "[1, 500] loss: 0.135\n",
      "[1, 600] loss: 0.139\n",
      "[1, 700] loss: 0.138\n",
      "[1, 800] loss: 0.109\n",
      "[1, 900] loss: 0.101\n",
      "第1个epoch的识别准确率为：96%\n",
      "[2, 100] loss: 0.095\n",
      "[2, 200] loss: 0.077\n",
      "[2, 300] loss: 0.083\n",
      "[2, 400] loss: 0.083\n",
      "[2, 500] loss: 0.079\n",
      "[2, 600] loss: 0.065\n",
      "[2, 700] loss: 0.063\n",
      "[2, 800] loss: 0.064\n",
      "[2, 900] loss: 0.080\n",
      "第2个epoch的识别准确率为：98%\n",
      "[3, 100] loss: 0.046\n",
      "[3, 200] loss: 0.058\n",
      "[3, 300] loss: 0.056\n",
      "[3, 400] loss: 0.062\n",
      "[3, 500] loss: 0.051\n",
      "[3, 600] loss: 0.046\n",
      "[3, 700] loss: 0.047\n",
      "[3, 800] loss: 0.052\n",
      "[3, 900] loss: 0.040\n",
      "第3个epoch的识别准确率为：98%\n",
      "[4, 100] loss: 0.037\n",
      "[4, 200] loss: 0.035\n",
      "[4, 300] loss: 0.038\n",
      "[4, 400] loss: 0.042\n",
      "[4, 500] loss: 0.037\n",
      "[4, 600] loss: 0.049\n",
      "[4, 700] loss: 0.039\n",
      "[4, 800] loss: 0.038\n",
      "[4, 900] loss: 0.037\n",
      "第4个epoch的识别准确率为：98%\n",
      "[5, 100] loss: 0.033\n",
      "[5, 200] loss: 0.026\n",
      "[5, 300] loss: 0.027\n",
      "[5, 400] loss: 0.035\n",
      "[5, 500] loss: 0.032\n",
      "[5, 600] loss: 0.025\n",
      "[5, 700] loss: 0.031\n",
      "[5, 800] loss: 0.028\n",
      "[5, 900] loss: 0.039\n",
      "第5个epoch的识别准确率为：99%\n",
      "[6, 100] loss: 0.020\n",
      "[6, 200] loss: 0.027\n",
      "[6, 300] loss: 0.022\n",
      "[6, 400] loss: 0.021\n",
      "[6, 500] loss: 0.026\n",
      "[6, 600] loss: 0.027\n",
      "[6, 700] loss: 0.028\n",
      "[6, 800] loss: 0.026\n",
      "[6, 900] loss: 0.031\n",
      "第6个epoch的识别准确率为：99%\n",
      "[7, 100] loss: 0.019\n",
      "[7, 200] loss: 0.016\n",
      "[7, 300] loss: 0.019\n",
      "[7, 400] loss: 0.019\n",
      "[7, 500] loss: 0.019\n",
      "[7, 600] loss: 0.027\n",
      "[7, 700] loss: 0.022\n",
      "[7, 800] loss: 0.019\n",
      "[7, 900] loss: 0.021\n",
      "第7个epoch的识别准确率为：98%\n",
      "[8, 100] loss: 0.014\n",
      "[8, 200] loss: 0.018\n",
      "[8, 300] loss: 0.020\n",
      "[8, 400] loss: 0.020\n",
      "[8, 500] loss: 0.018\n",
      "[8, 600] loss: 0.020\n",
      "[8, 700] loss: 0.021\n",
      "[8, 800] loss: 0.018\n",
      "[8, 900] loss: 0.019\n",
      "第8个epoch的识别准确率为：99%\n"
     ]
    }
   ],
   "source": [
    "lr = 0.001\n",
    "epochs = 8\n",
    "net = LeNet5().to(device)\n",
    "loss = nn.CrossEntropyLoss()\n",
    "opt = optim.Adam(net.parameters(), lr = lr, betas = (0.9, 0.99))\n",
    "train_loss = []\n",
    "for epoch in range(epochs):\n",
    "    sum_loss = 0.\n",
    "    for i, (img, label) in enumerate(trainloader):\n",
    "        img, label = img.to(device), label.to(device)\n",
    "        \n",
    "        opt.zero_grad()\n",
    "        out = net(img)\n",
    "        L = loss(out, label)\n",
    "        L.backward()\n",
    "        opt.step()\n",
    "        \n",
    "        sum_loss += L.item()\n",
    "        \n",
    "        if i % 100 == 99:\n",
    "            print('[%d, %d] loss: %.03f'\n",
    "                      % (epoch + 1, i + 1, sum_loss / 100))\n",
    "            train_loss.append(sum_loss / 100)\n",
    "            sum_loss = 0.0\n",
    "            \n",
    "    with torch.no_grad():\n",
    "        correct = 0\n",
    "        total = 0\n",
    "        for img, label in testloader:\n",
    "            img, label = img.to(device), label.to(device)\n",
    "            out = net(img)\n",
    "            \n",
    "            _, ypred = torch.max(out.data, 1)\n",
    "            total += label.size(0)\n",
    "            correct += (ypred == label).sum()\n",
    "        print('第%d个epoch的识别准确率为：%d%%' % (epoch + 1, (100 * correct / total)))"
   ]
  },
  {
   "cell_type": "code",
   "execution_count": 55,
   "metadata": {},
   "outputs": [
    {
     "data": {
      "image/png": "[encoded data removed]",
      "text/plain": [
       "<matplotlib.figure.Figure at 0x1aa0d928a58>"
      ]
     },
     "metadata": {},
     "output_type": "display_data"
    }
   ],
   "source": [
    "import matplotlib.pyplot as plt\n",
    "plt.plot(train_loss, c = \"blue\")\n",
    "plt.title(\"the training loss of LeNet5 on mnist\")\n",
    "plt.xlabel(\"iteration time\\(per 100 batches\\)\")\n",
    "plt.ylabel(\"average loss\")\n",
    "plt.show()"
   ]
  },
  {
   "cell_type": "code",
   "execution_count": 5,
   "metadata": {},
   "outputs": [
    {
     "name": "stderr",
     "output_type": "stream",
     "text": [
      "D:\\Ananconda\\lib\\site-packages\\torch\\serialization.py:292: UserWarning: Couldn't retrieve source code for container of type LeNet5. It won't be checked for correctness upon loading.\n",
      "  \"type \" + obj.__name__ + \". It won't be checked \"\n",
      "D:\\Ananconda\\lib\\site-packages\\torch\\serialization.py:292: UserWarning: Couldn't retrieve source code for container of type Sequential. It won't be checked for correctness upon loading.\n",
      "  \"type \" + obj.__name__ + \". It won't be checked \"\n",
      "D:\\Ananconda\\lib\\site-packages\\torch\\serialization.py:292: UserWarning: Couldn't retrieve source code for container of type Conv2d. It won't be checked for correctness upon loading.\n",
      "  \"type \" + obj.__name__ + \". It won't be checked \"\n",
      "D:\\Ananconda\\lib\\site-packages\\torch\\serialization.py:292: UserWarning: Couldn't retrieve source code for container of type ReLU. It won't be checked for correctness upon loading.\n",
      "  \"type \" + obj.__name__ + \". It won't be checked \"\n",
      "D:\\Ananconda\\lib\\site-packages\\torch\\serialization.py:292: UserWarning: Couldn't retrieve source code for container of type MaxPool2d. It won't be checked for correctness upon loading.\n",
      "  \"type \" + obj.__name__ + \". It won't be checked \"\n",
      "D:\\Ananconda\\lib\\site-packages\\torch\\serialization.py:292: UserWarning: Couldn't retrieve source code for container of type Linear. It won't be checked for correctness upon loading.\n",
      "  \"type \" + obj.__name__ + \". It won't be checked \"\n"
     ]
    }
   ],
   "source": [
    "torch.save(net, \"./LeNet5.pkl\")"
   ]
  },
  {
   "cell_type": "code",
   "execution_count": null,
   "metadata": {
    "collapsed": true
   },
   "outputs": [],
   "source": []
  }
 ],
 "metadata": {
  "kernelspec": {
   "display_name": "Python 3",
   "language": "python",
   "name": "python3"
  },
  "language_info": {
   "codemirror_mode": {
    "name": "ipython",
    "version": 3
   },
   "file_extension": ".py",
   "mimetype": "text/x-python",
   "name": "python",
   "nbconvert_exporter": "python",
   "pygments_lexer": "ipython3",
   "version": "3.6.2"
  }
 },
 "nbformat": 4,
 "nbformat_minor": 2
}
